{
 "cells": [
  {
   "cell_type": "code",
   "execution_count": 9,
   "id": "193d762e",
   "metadata": {},
   "outputs": [],
   "source": [
    "import torch\n",
    "import torch.nn.functional as F\n",
    "import matplotlib.pyplot as plt # for making figures\n",
    "%matplotlib inline"
   ]
  },
  {
   "cell_type": "code",
   "execution_count": 10,
   "id": "67987eef",
   "metadata": {},
   "outputs": [
    {
     "name": "stdout",
     "output_type": "stream",
     "text": [
      "32033\n",
      "15\n",
      "['emma', 'olivia', 'ava', 'isabella', 'sophia', 'charlotte', 'mia', 'amelia']\n"
     ]
    }
   ],
   "source": [
    "# read in all the words\n",
    "words = open('../data/names.txt', 'r').read().splitlines()\n",
    "print(len(words))\n",
    "print(max(len(w) for w in words))\n",
    "print(words[:8])"
   ]
  },
  {
   "cell_type": "code",
   "execution_count": 11,
   "id": "a269d46f",
   "metadata": {},
   "outputs": [
    {
     "name": "stdout",
     "output_type": "stream",
     "text": [
      "{1: 'a', 2: 'b', 3: 'c', 4: 'd', 5: 'e', 6: 'f', 7: 'g', 8: 'h', 9: 'i', 10: 'j', 11: 'k', 12: 'l', 13: 'm', 14: 'n', 15: 'o', 16: 'p', 17: 'q', 18: 'r', 19: 's', 20: 't', 21: 'u', 22: 'v', 23: 'w', 24: 'x', 25: 'y', 26: 'z', 0: '.'}\n",
      "27\n"
     ]
    }
   ],
   "source": [
    "# build the vocabulary of characters and mapping to/from integers\n",
    "chars = sorted(list(set(''.join(words))))\n",
    "stoi = {s:i+1 for i,s in enumerate(chars)}\n",
    "stoi['.'] = 0\n",
    "itos = {i:s for s,i in stoi.items()}\n",
    "vocab_size = len(itos)\n",
    "print(itos)\n",
    "print(vocab_size)"
   ]
  },
  {
   "cell_type": "code",
   "execution_count": 12,
   "id": "98c8b0b6",
   "metadata": {},
   "outputs": [
    {
     "name": "stdout",
     "output_type": "stream",
     "text": [
      "torch.Size([182625, 3]) torch.Size([182625])\n",
      "torch.Size([22655, 3]) torch.Size([22655])\n",
      "torch.Size([22866, 3]) torch.Size([22866])\n"
     ]
    }
   ],
   "source": [
    "# build the dataset\n",
    "block_size = 3 # context length : how many characters do we take to predict the next one?\n",
    "def build_dataset(words):\n",
    "    X,Y = [], []\n",
    "    for w in words:\n",
    "        # print(w)\n",
    "        context = [0] * block_size\n",
    "        for ch in w + '.':\n",
    "            ix = stoi[ch]\n",
    "            X.append(context)  \n",
    "            Y.append(ix)\n",
    "            context = context[1:] + [ix] # crop and append\n",
    "    X = torch.tensor(X) \n",
    "    Y = torch.tensor(Y)\n",
    "    print(X.shape, Y.shape)\n",
    "    return X,Y\n",
    "\n",
    "import random \n",
    "random.seed(42)\n",
    "random.shuffle(words)\n",
    "n1 = int(0.8*len(words))\n",
    "n2 = int(0.9*len(words))\n",
    "\n",
    "Xtr, Ytr = build_dataset(words[:n1])      # 80% training set\n",
    "Xdev, Ydev = build_dataset(words[n1:n2])  # 10% dev=validation set\n",
    "Xte, Yte = build_dataset(words[n2:])      # 10% test set"
   ]
  },
  {
   "cell_type": "code",
   "execution_count": 13,
   "id": "33291237",
   "metadata": {},
   "outputs": [
    {
     "name": "stdout",
     "output_type": "stream",
     "text": [
      "Using device : cpu\n"
     ]
    }
   ],
   "source": [
    "# GPU 설정\n",
    "device = torch.device('cuda' if torch.cuda.is_available() else 'cpu')\n",
    "print(f'Using device : {device}')\n",
    "\n",
    "Xtr = Xtr.to(device)\n",
    "Ytr = Ytr.to(device)\n",
    "Xdev = Xdev.to(device)\n",
    "Ydev = Ydev.to(device)\n",
    "Xte = Xte.to(device)\n",
    "Yte = Yte.to(device)"
   ]
  },
  {
   "cell_type": "markdown",
   "id": "2646a99b",
   "metadata": {},
   "source": [
    "### ok biolerplate done, now we get to the action:"
   ]
  },
  {
   "cell_type": "code",
   "execution_count": 14,
   "id": "3563ade0",
   "metadata": {},
   "outputs": [],
   "source": [
    "# utility function we will use later when comparing manual gradients to PyTorch gradients\n",
    "\n",
    "def cmp(s, dt, t):\n",
    "    ex = torch.all(dt == t.grad).item()\n",
    "    app = torch.allclose(dt, t.grad)\n",
    "    maxdiff = (dt - t.grad).abs().max().item()\n",
    "    print(f'{s:15s} | exact: {str(ex):5s} | approximate: {str(app):5s} | maxdiff: {maxdiff}')"
   ]
  },
  {
   "cell_type": "code",
   "execution_count": 15,
   "id": "7bb4d5b5",
   "metadata": {},
   "outputs": [
    {
     "name": "stdout",
     "output_type": "stream",
     "text": [
      "12097\n"
     ]
    }
   ],
   "source": [
    "n_embd = 10 # the dimensionality of the character embedding vectors\n",
    "n_hidden = 200 # the number of neurons in the hidden layer of the MLP\n",
    "\n",
    "seed_num = 2147483647\n",
    "g = torch.Generator().manual_seed(seed_num)\n",
    "\n",
    "# torch.randn\n",
    "# size         : defining the shape of the output tensor   \n",
    "C = torch.randn((vocab_size,n_embd), generator=g).to(device)\n",
    "\n",
    "# Layer 1\n",
    "W1 = torch.randn((n_embd * block_size, n_hidden), generator=g) * (5/3)/(n_embd * block_size) ** 0.5 \n",
    "W1 = W1.to(device)\n",
    "b1 = torch.randn(n_hidden,generator=g) * 0.001\n",
    "\n",
    "# Layer 2\n",
    "W2 = torch.randn((n_hidden,vocab_size), generator=g) * 0.01 # we want roughly zero at logits\n",
    "W2 = W2.to(device)\n",
    "b2 = torch.randn(vocab_size,generator=g) * 0 # at initialization, bias starts with 0, because we want roughly zero at logits.\n",
    "b2 = b2.to(device)\n",
    "\n",
    "# BatchNorm parameters\n",
    "bngain = torch.ones((1, n_hidden)).to(device)\n",
    "bnbias = torch.zeros((1, n_hidden)).to(device)\n",
    "\n",
    "\n",
    "parameters = [C, W1, W2, b2, bngain, bnbias]\n",
    "print(sum(p.nelement() for p in parameters)) # number of parameters in total\n",
    "\n",
    "for p in parameters:\n",
    "    p.requires_grad = True"
   ]
  },
  {
   "cell_type": "code",
   "execution_count": 16,
   "id": "b1041acb",
   "metadata": {},
   "outputs": [
    {
     "data": {
      "text/plain": [
       "torch.Size([27, 10])"
      ]
     },
     "execution_count": 16,
     "metadata": {},
     "output_type": "execute_result"
    }
   ],
   "source": [
    "C.shape"
   ]
  },
  {
   "cell_type": "code",
   "execution_count": 17,
   "id": "f98f96a0",
   "metadata": {},
   "outputs": [],
   "source": [
    "batch_size = 32\n",
    "n = batch_size # a shorter variable also, for convenience\n",
    "\n",
    "# construct a minibatch\n",
    "\n",
    "# torch.randint\n",
    "# 0            : 뽑을 수 있는 가장 작은 정수 (포함)\n",
    "# Xtr.shape[0] : 뽑을 수 있는 가장 큰 정수, 이 경우 데이터셋의 총 샘플 수 (미포함)\n",
    "# (batch_size,): 결과 텐서의 크기, 이 경우 (32) \n",
    "\n",
    "# batch_size 만큼 랜덤하게 idx 번호를 뽑는다.\n",
    "ix = torch.randint(0, Xtr.shape[0], (batch_size, ), generator=g) \n",
    "# 뽑은 idx 번호로 인덱싱해서 미니 배치를 만든다.\n",
    "# 미니 배치 shape >>> ([32,3])\n",
    "Xb, Yb = Xtr[ix], Ytr[ix] # batch X,Y"
   ]
  },
  {
   "cell_type": "code",
   "execution_count": null,
   "id": "2f755ec4",
   "metadata": {},
   "outputs": [],
   "source": [
    "# forward pass, 'chunkated' into smaller steps that are possible to backward one at a time\n",
    "emb = C[Xb] # embed the characters into vectors\n",
    "\n",
    "# C : 임베딩 테이블, 27(문자 개수) * 10(임베딩 차원)\n",
    "# Xb : 배치 데이터, 32(배치 사이즈) * 3(문자 인덱스)\n",
    "\n",
    "# C[Xb]는 numpy의 'fancy indexing'처럼 동작\n",
    "# 핵심은, C의 행이 문자 개수만큼, Xb의 열이 문자 인덱스라는 점\n",
    "\n",
    "# Xb의 각 문자 인덱스를 행 번호로 해서, C에서 (1,10)의 tensor를 lookup\n",
    "# 따라서 emb.shape는 ([32,3,10])"
   ]
  },
  {
   "cell_type": "code",
   "execution_count": null,
   "id": "82643d5b",
   "metadata": {},
   "outputs": [],
   "source": [
    "# emb.shape[0] = 32\n",
    "# embcat.shape == ([32,30])\n",
    "embcat = emb.view(emb.shape[0], -1) # concatenate the vectors\n",
    "\n",
    "# Linear layer 1\n",
    "# W1.shape == ([30,200]) == ([block_size * n_embd, n_hidden])\n",
    "# b1.shape == ([200, 1])\n",
    "# hprebn.shape == ([32,200])\n",
    "hprebn = embcat @ W1 + b1 # hidden layer pre-activation\n",
    "\n",
    "# BatchNorm layer\n",
    "bnmeani = 1/n * hprebn.sum(0, keepdim=True)\n",
    "bndiff = hprebn - bnmeani\n",
    "bndiff2 = bndiff ** 2\n",
    "bnvar = 1/(n-1)*(bndiff2).sum(0, keepdim = True) # note: Bessel's correction (dividing by n-1, not n)\n",
    "bnvar_inv = (bnvar + 1e-5) ** -0.5\n",
    "bnraw = bndiff * bnvar_inv\n",
    "hpreact = bngain * bnraw + bnbias\n",
    "\n",
    "# Non-linearity\n",
    "h = torch.tanh(hpreact) # hidden layer\n",
    "\n",
    "# Linear layer 2\n",
    "logits = h @ W2 + b2 # output layer"
   ]
  },
  {
   "cell_type": "markdown",
   "id": "be2ecd20",
   "metadata": {},
   "source": [
    "### softmax에서 max 값을 빼는 이유\n",
    "\n",
    "exp는 $y^{i} = e^{x_i}$이다.  \n",
    "즉, logits를 승수로 한다.  \n",
    "이때, logits가 아주 크면, 지수함수이므로 결과값이 무한대에 가까워질 수 있다.  \n",
    "\n",
    "따라서 logit에서 max값을 빼준다.  \n",
    "\n",
    "### logit에서 max값을 빼주어도, softmax 결과는 같은 이유.\n",
    "\n",
    "softmax 수식으로 보면,\n",
    "$$\\dfrac{e^{x_i - m}}{\\sum_j{e^{x_j - m}}} = \\dfrac{e^{x_i} \\cdot e^{-m}}{\\sum_j{e^{x_j}} \\cdot e^{-m}} = \\dfrac{e^{x_i}}{\\sum_j{e^{x_j}}}$$\n",
    "\n",
    "즉, 분모 분자에 같은 값을 곱한 것과 같으므로, softmax 결과는 같다."
   ]
  },
  {
   "cell_type": "code",
   "execution_count": null,
   "id": "0b6fb41f",
   "metadata": {},
   "outputs": [],
   "source": [
    "# cross entropy loss (same as F.cross_entropy(logits, Yb))\n",
    "logit_maxes = logits.max(1, keepdim=True).values\n",
    "norm_logits = logits - logit_maxes # subtract max for numerical stability\n",
    "counts = norm_logits.exp()\n",
    "counts_sum = counts.sum(1, keepdim=True)\n",
    "counts_sum_inv = counts_sum ** -1 # if I use (1.0 / counts_sum) instead then I can't get backprop to be bit exact...\n",
    "probs = counts * counts_sum_inv\n",
    "logprobs = probs.log()\n",
    "loss = -logprobs[range(n), Yb].mean()\n",
    "\n",
    "# Pytorch backward pass\n",
    "for p in parameters:\n",
    "    p.grad = None\n",
    "\n",
    "for t in [logprobs, probs, counts, counts_sum, counts_sum_inv, # afaik there is no cleaner way\n",
    "          norm_logits, logit_maxes, logits, h, hpreact, bnraw,\n",
    "         bnvar_inv, bnvar, bndiff2, bndiff, hprebn, bnmeani,\n",
    "         embcat, emb]:\n",
    "    t.retain_grad()\n",
    "\n",
    "loss.backward()\n",
    "loss"
   ]
  },
  {
   "cell_type": "code",
   "execution_count": 11,
   "id": "f7695791",
   "metadata": {},
   "outputs": [
    {
     "data": {
      "text/plain": [
       "torch.Size([32, 27])"
      ]
     },
     "execution_count": 11,
     "metadata": {},
     "output_type": "execute_result"
    }
   ],
   "source": [
    "logprobs.shape"
   ]
  },
  {
   "cell_type": "code",
   "execution_count": null,
   "id": "80ef0b81",
   "metadata": {},
   "outputs": [],
   "source": [
    "# Exercise 1 : backprop through the whole thing manually,\n",
    "# backpropagating through exactly all of the variables\n",
    "# as they are defined in the forward pass above, one by one\n",
    "\n",
    "dlogprobs = "
   ]
  }
 ],
 "metadata": {
  "kernelspec": {
   "display_name": ".venv",
   "language": "python",
   "name": "python3"
  },
  "language_info": {
   "codemirror_mode": {
    "name": "ipython",
    "version": 3
   },
   "file_extension": ".py",
   "mimetype": "text/x-python",
   "name": "python",
   "nbconvert_exporter": "python",
   "pygments_lexer": "ipython3",
   "version": "3.12.9"
  }
 },
 "nbformat": 4,
 "nbformat_minor": 5
}
