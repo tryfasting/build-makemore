{
 "cells": [
  {
   "cell_type": "markdown",
   "id": "7c423a55",
   "metadata": {},
   "source": [
    "### makemore: part 3"
   ]
  },
  {
   "cell_type": "code",
   "execution_count": 1,
   "id": "acd09fe1",
   "metadata": {},
   "outputs": [],
   "source": [
    "import torch\n",
    "import torch.nn.functional as F\n",
    "import matplotlib.pyplot as plt # for making figures\n",
    "%matplotlib inline"
   ]
  },
  {
   "cell_type": "code",
   "execution_count": 2,
   "id": "172d63fb",
   "metadata": {},
   "outputs": [
    {
     "data": {
      "text/plain": [
       "['emma', 'olivia', 'ava', 'isabella', 'sophia', 'charlotte', 'mia', 'amelia']"
      ]
     },
     "execution_count": 2,
     "metadata": {},
     "output_type": "execute_result"
    }
   ],
   "source": [
    "# read in all the words\n",
    "words = open('../data/names.txt', 'r').read().splitlines()\n",
    "words[:8]"
   ]
  },
  {
   "cell_type": "code",
   "execution_count": 3,
   "id": "88e1c3fa",
   "metadata": {},
   "outputs": [
    {
     "data": {
      "text/plain": [
       "32033"
      ]
     },
     "execution_count": 3,
     "metadata": {},
     "output_type": "execute_result"
    }
   ],
   "source": [
    "len(words)"
   ]
  },
  {
   "cell_type": "code",
   "execution_count": 4,
   "id": "59cf6cba",
   "metadata": {},
   "outputs": [
    {
     "name": "stdout",
     "output_type": "stream",
     "text": [
      "{1: 'a', 2: 'b', 3: 'c', 4: 'd', 5: 'e', 6: 'f', 7: 'g', 8: 'h', 9: 'i', 10: 'j', 11: 'k', 12: 'l', 13: 'm', 14: 'n', 15: 'o', 16: 'p', 17: 'q', 18: 'r', 19: 's', 20: 't', 21: 'u', 22: 'v', 23: 'w', 24: 'x', 25: 'y', 26: 'z', 0: '.'}\n",
      "27\n"
     ]
    }
   ],
   "source": [
    "# build the vocabulary of characters and mapping to/from integers\n",
    "chars = sorted(list(set(''.join(words))))\n",
    "stoi = {s:i+1 for i,s in enumerate(chars)}\n",
    "stoi['.'] = 0\n",
    "itos = {i:s for s,i in stoi.items()}\n",
    "vocab_size = len(itos)\n",
    "print(itos)\n",
    "print(vocab_size)"
   ]
  },
  {
   "cell_type": "code",
   "execution_count": 5,
   "id": "8d8ca5cc",
   "metadata": {},
   "outputs": [
    {
     "name": "stdout",
     "output_type": "stream",
     "text": [
      "torch.Size([182625, 3]) torch.Size([182625])\n",
      "torch.Size([22655, 3]) torch.Size([22655])\n",
      "torch.Size([22866, 3]) torch.Size([22866])\n"
     ]
    }
   ],
   "source": [
    "# build the dataset\n",
    "block_size = 3 # context length : how many characters do we take to predict the next one?\n",
    "def build_dataset(words):\n",
    "    X,Y = [], []\n",
    "    for w in words:\n",
    "        # print(w)\n",
    "        context = [0] * block_size\n",
    "        for ch in w + '.':\n",
    "            ix = stoi[ch]\n",
    "            X.append(context)  \n",
    "            Y.append(ix)\n",
    "            context = context[1:] + [ix] # crop and append\n",
    "    X = torch.tensor(X) \n",
    "    Y = torch.tensor(Y)\n",
    "    print(X.shape, Y.shape)\n",
    "    return X,Y\n",
    "\n",
    "import random \n",
    "random.seed(42)\n",
    "random.shuffle(words)\n",
    "n1 = int(0.8*len(words))\n",
    "n2 = int(0.9*len(words))\n",
    "\n",
    "Xtr, Ytr = build_dataset(words[:n1])      # 80% training set\n",
    "Xdev, Ydev = build_dataset(words[n1:n2])  # 10% dev=validation set\n",
    "Xte, Yte = build_dataset(words[n2:])      # 10% test set"
   ]
  },
  {
   "cell_type": "code",
   "execution_count": 49,
   "id": "59a70c14",
   "metadata": {},
   "outputs": [
    {
     "name": "stdout",
     "output_type": "stream",
     "text": [
      "11897\n"
     ]
    }
   ],
   "source": [
    "# MLP revisited\n",
    "n_embd = 10 # the dimensionality of the character embedding vectors\n",
    "n_hidden = 200 # the number of neurons in the hidden layer of the MLP\n",
    "\n",
    "seed_num = 2147483647\n",
    "g = torch.Generator().manual_seed(seed_num)\n",
    "C = torch.randn((vocab_size,n_embd), generator=g)\n",
    "W1 = torch.randn((n_embd * block_size, n_hidden), generator=g) * (5/3)/(n_embd * block_size) ** 0.5 \n",
    "b1 = torch.randn(n_hidden,generator=g) * 0.001\n",
    "W2 = torch.randn((n_hidden,vocab_size), generator=g) * 0.01 # we want roughly zero at logits\n",
    "b2 = torch.randn(vocab_size,generator=g) * 0 # at initialization, bias starts with 0, because we want roughly zero at logits.\n",
    "\n",
    "bngain = torch.ones((1, n_hidden))\n",
    "bnbias = torch.zeros((1, n_hidden))\n",
    "bnmean_running = torch.zeros((1, n_hidden))\n",
    "bnstd_running = torch.ones((1, n_hidden))\n",
    "\n",
    "parameters = [C,W1,b1,W2,b2]\n",
    "print(sum(p.nelement() for p in parameters)) # number of parameters in total\n",
    "for p in parameters:\n",
    "    p.requires_grad = True"
   ]
  },
  {
   "cell_type": "markdown",
   "id": "bf1d4ab4",
   "metadata": {},
   "source": [
    "## Caution\n",
    "\n",
    "there are a number of modern innovations that have made everything significantly more stable and more well behaved,  \n",
    "so it's become less important to initialize these networks exactly right(like a kaiming initialization).  \n",
    "\n",
    "some of those modern innovations for example are,  \n",
    "1. **residual connection**\n",
    "2. **batch normalization**\n",
    "3. **better optimizer**"
   ]
  },
  {
   "cell_type": "markdown",
   "id": "ff235d3f",
   "metadata": {},
   "source": [
    "### An intuitive understanding of weight changes    "
   ]
  },
  {
   "cell_type": "code",
   "execution_count": null,
   "id": "e9b63679",
   "metadata": {},
   "outputs": [],
   "source": [
    "x = torch.randn(1000,10)\n",
    "w = torch.randn(10,200) * 0.2\n",
    "'''\n",
    "what do i multiply by here to exactly preserve the standard deviation to be 1?\n",
    "= 1 / math.sqrt(fan_in)\n",
    "\n",
    "fan_in : 가중치 행렬로 들어오는 입력의 feature 개수\n",
    "    ex) 위 코드의 경우, 입력 x (1000,10)의 feature는 10\n",
    "\n",
    "위 아이디어에 기반한 가중치 초기화 방법이 Kaiming Initialization\n",
    "'''\n",
    "\n",
    "# w = torch.randn(10,200)\n",
    "y = x @ w\n",
    "print(x.mean(), x.std())\n",
    "print(y.mean(), y.std())\n",
    "plt.figure(figsize=(20,5))\n",
    "plt.subplot(121)    \n",
    "plt.hist(x.view(-1).tolist(), 50, density=True)\n",
    "plt.subplot(122)    \n",
    "plt.hist(y.view(-1).tolist(), 50, density=True)"
   ]
  },
  {
   "cell_type": "markdown",
   "id": "e54c073b",
   "metadata": {},
   "source": [
    "### 왜 표준편차를 1로 유지하는 것이 중요한가?\n",
    "\n",
    "이것이 MLP(Multi-Layer Perceptron, 다층 퍼셉트론)에서 정말 중요한 개념이다.   \n",
    "**신호(데이터)가 신경망의 여러 층을 통과할 때 그 세기를 일정하게 유지하기 위해서**라고 생각하면 쉽다.\n",
    "\n",
    "마치 '스무고개'나 '전화 게임'을 하는 것과 비슷하다.  \n",
    "\n",
    "**Vanishing Gradients**:   \n",
    "첫 번째 사람이 속삭이듯 말하면, 다음 사람은 더 작게 말하고, 맨 끝 사람은 아무것도 듣지 못한다.   \n",
    "신경망에서도 마찬가지다. 층을 거칠수록 신호(데이터의 분산/표준편차)가 계속 작아지면, 결국 신호가 사라져 버린다. 이는 역전파(backpropagation) 시 기울기(gradient)가 0에 가까워져 가중치 업데이트가 거의 일어나지 않는 \"기울기 소실(Vanishing Gradients)\" 문제로 이어진다. 모델이 학습을 못 하게 되는 것이다.  \n",
    "\n",
    "**Exploding Gradients**:  \n",
    "반대로 첫 번째 사람이 소리를 지르면, 다음 사람은 더 크게 소리 지르고, 맨 끝에서는 귀가 아플 정도로 소리가 커진다  \n",
    "신경망에서도 층을 거치며 신호가 계속 커지면, 값이 기하급수적으로 폭주하게 된다. 이는 기울기가 비정상적으로 커지는 \"기울기 폭주(Exploding Gradients)\" 문제로 이어져 학습이 불안정해지고 발산하게 된다.  \n",
    "\n",
    "핵심은 각 층을 통과한 후에도 데이터의 표준편차를 입력과 비슷한 수준(예: 1)으로 유지해서, \n",
    "신호가 너무 약해지거나 너무 강해지지 않고 안정적으로 전달되도록 하는 것이다.  "
   ]
  },
  {
   "cell_type": "markdown",
   "id": "4c24e1d5",
   "metadata": {},
   "source": [
    "## batch normalization"
   ]
  },
  {
   "cell_type": "markdown",
   "id": "c84affcd",
   "metadata": {},
   "source": [
    "@ normalization이란 무엇인가?  \n",
    "\n",
    "데이터를 표준분포로 만드는 것을 표준화라고 한다.  \n",
    "각 데이터에 평균을 빼고,  \n",
    "표준편차로 나눈다."
   ]
  },
  {
   "cell_type": "markdown",
   "id": "a6c3e5b5",
   "metadata": {},
   "source": [
    "@@ batch normalization이란 무엇인가?\n",
    "\n",
    "1. 미니배치(Mini-batch)의 평균과 분산 계산\n",
    "학습 데이터를 한 번에 모두 처리하는 대신, 작은 묶음인 '미니배치' 단위로 나누어 처리한다.   배치 정규화는 이 미니배치에 포함된 데이터들의 평균(μ)과 분산(σ²)을 계산한다.\n",
    "\n",
    "2. 정규화 (Normalization)\n",
    "각 데이터에서 방금 구한 평균을 빼고, 표준편차(분산의 제곱근)로 나누어준다. \n",
    "이렇게 하면 데이터가 평균 0, 표준편차 1에 가까운 '표준' 분포로 재배치된다.  \n",
    "데이터가 너무 크거나 작아지는 것을 막아주어 학습을 안정시킨다.  "
   ]
  },
  {
   "cell_type": "markdown",
   "id": "d5a50aa1",
   "metadata": {},
   "source": [
    "@@@ batch normalization에 대한 특징  \n",
    "\n",
    "단기적으로는 비용이 많이 든다.  \n",
    "- 계산량(평균, 분산) 증가, 병렬 연산 추가\n",
    "\n",
    "장기적으로는 효율적이다.\n",
    "- 높은 학습률, 안정적인 훈련\n",
    "- 더 적은 에포크로 동일한 성능 도달, 즉 개별 연산은 느리나, 전체 훈련 시간이 단축."
   ]
  },
  {
   "cell_type": "code",
   "execution_count": 38,
   "id": "16943fb4",
   "metadata": {},
   "outputs": [
    {
     "data": {
      "text/plain": [
       "torch.Size([1, 200])"
      ]
     },
     "execution_count": 38,
     "metadata": {},
     "output_type": "execute_result"
    }
   ],
   "source": [
    "hpreact.mean(0, keepdim=True).shape"
   ]
  },
  {
   "cell_type": "code",
   "execution_count": 39,
   "id": "cd7bce03",
   "metadata": {},
   "outputs": [
    {
     "data": {
      "text/plain": [
       "torch.Size([1, 200])"
      ]
     },
     "execution_count": 39,
     "metadata": {},
     "output_type": "execute_result"
    }
   ],
   "source": [
    "hpreact.std(0, keepdim=True).shape"
   ]
  },
  {
   "cell_type": "code",
   "execution_count": null,
   "id": "85684a47",
   "metadata": {},
   "outputs": [
    {
     "name": "stdout",
     "output_type": "stream",
     "text": [
      "      0/ 200000: 3.3147\n",
      "  10000/ 200000: 2.1942\n",
      "  20000/ 200000: 2.3443\n",
      "  30000/ 200000: 2.4160\n",
      "  40000/ 200000: 1.9913\n",
      "  50000/ 200000: 2.2978\n",
      "  60000/ 200000: 2.5254\n",
      "  70000/ 200000: 2.0707\n",
      "  80000/ 200000: 2.3107\n",
      "  90000/ 200000: 2.0663\n",
      " 100000/ 200000: 1.9933\n",
      " 110000/ 200000: 2.3179\n",
      " 120000/ 200000: 1.9123\n",
      " 130000/ 200000: 2.4505\n",
      " 140000/ 200000: 2.4321\n",
      " 150000/ 200000: 2.2003\n",
      " 160000/ 200000: 2.0463\n",
      " 170000/ 200000: 1.8839\n",
      " 180000/ 200000: 1.9983\n",
      " 190000/ 200000: 1.8873\n"
     ]
    }
   ],
   "source": [
    "# same optimization as last time\n",
    "max_steps = 200000\n",
    "batch_size = 32\n",
    "lossi = []\n",
    "\n",
    "for i in range(max_steps):\n",
    "\n",
    "    # minibatch construct\n",
    "    ix = torch.randint(0,Xtr.shape[0],(batch_size,),generator=g)\n",
    "    Xb, Yb = Xtr[ix], Ytr[ix] # batch X,Y\n",
    "\n",
    "    # forward pass\n",
    "    emb = C[Xb] #embed the characters into vectors\n",
    "    embcat = emb.view(emb.shape[0], -1) # concatenate the vectors\n",
    "    hpreact = embcat @ W1 + b1 # hidden layer pre-activation\n",
    "    # bias doing nothing here. because after batch normalization, we substracted out `bnmeani`.\n",
    "    bnmeani = hpreact.mean(0, keepdim=True)\n",
    "    bnstdi = hpreact.std(0, keepdim=True) \n",
    "    hpreact = bngain * (hpreact - bnmeani) / bnstdi + bnbias # batch normalization\n",
    "\n",
    "    with torch.no_grad():\n",
    "        bnmean_running = 0.999 * bnmean_running + 0.001 * bnmeani\n",
    "        bnstd_running = 0.999 * bnstd_running + 0.001 * bnstdi\n",
    "\n",
    "    \n",
    "    h = torch.tanh(hpreact) # hidden layer\n",
    "    logits = h @ W2 + b2 # output layer\n",
    "    loss = F.cross_entropy(logits, Yb) # loss function\n",
    "\n",
    "    # backward pass\n",
    "    for p in parameters:\n",
    "        p.grad = None\n",
    "    loss.backward()\n",
    "\n",
    "    # update\n",
    "    lr = 0.1 if i < 100000 else 0.01 # step learning rate decay\n",
    "    for p in parameters:\n",
    "        p.data += -lr * p.grad\n",
    "\n",
    "    # track stats\n",
    "    if i % 10000 == 0: # print every once in a while\n",
    "        print(f'{i:7d}/{max_steps:7d}: {loss.item():.4f}')\n",
    "    lossi.append(loss.log10().item())\n"
   ]
  },
  {
   "cell_type": "markdown",
   "id": "703a6bae",
   "metadata": {},
   "source": [
    "### problem 1 : at initialization, softmax confidently wrong"
   ]
  },
  {
   "cell_type": "code",
   "execution_count": 14,
   "id": "23d03ccb",
   "metadata": {},
   "outputs": [
    {
     "data": {
      "text/plain": [
       "(tensor([0.0370, 0.0370, 0.0370, 0.0370, 0.0370, 0.0370, 0.0370, 0.0370, 0.0370,\n",
       "         0.0370, 0.0370, 0.0370, 0.0370, 0.0370, 0.0370, 0.0370, 0.0370, 0.0370,\n",
       "         0.0370, 0.0370, 0.0370, 0.0370, 0.0370, 0.0370, 0.0370, 0.0370, 0.0370]),\n",
       " tensor(3.2958))"
      ]
     },
     "execution_count": 14,
     "metadata": {},
     "output_type": "execute_result"
    }
   ],
   "source": [
    "# at initialization, uniform distribution , (a-z) alphabet.\n",
    "-torch.tensor(1/27.0).log()\n",
    "\n",
    "# but at the start, loss starts with \n",
    "# '0/ 200000: 27.8817'\n",
    "# it means at starting, the neural net is creating probability distributions that are all messed up, some character is confident, and some character is not.\n",
    "\n",
    "# so basically what's happening right is that the network is very confidently wrong.\n",
    "\n",
    "'''\n",
    "# 4-dimensional example of the issue\n",
    "# logits = torch.tensor([0.0, 0.0, 0.0, 0.0])\n",
    "logits = torch.randn(4) * 10\n",
    "probs = torch.softmax(logits, dim=0)\n",
    "loss =  -probs[2].log()\n",
    "probs, loss\n",
    "'''\n",
    "\n",
    "# 27-dimensional example of the issue\n",
    "logits = torch.zeros(27).float()\n",
    "probs = torch.softmax(logits, dim=0)\n",
    "loss = -probs[2].log()\n",
    "probs, loss"
   ]
  },
  {
   "cell_type": "markdown",
   "id": "bf7f96a9",
   "metadata": {},
   "source": [
    "### problem 2 : vector 'h', gradient vanishing"
   ]
  },
  {
   "cell_type": "code",
   "execution_count": 22,
   "id": "95275ec0",
   "metadata": {},
   "outputs": [
    {
     "data": {
      "text/plain": [
       "tensor([[ 0.5632, -0.0976, -0.6660,  ..., -0.3502, -0.9751,  0.8870],\n",
       "        [-0.9048, -0.1838, -0.1835,  ...,  0.0467,  0.5026,  0.4357],\n",
       "        [ 0.8082,  0.1261,  0.8236,  ...,  0.2865,  0.6541,  0.8816],\n",
       "        ...,\n",
       "        [-0.9161,  0.5273, -0.0349,  ..., -0.0857,  0.8688,  0.8838],\n",
       "        [-0.9338,  0.1018, -0.2813,  ..., -0.1287,  0.7916,  0.9094],\n",
       "        [-0.9161,  0.5273, -0.0349,  ..., -0.0857,  0.8688,  0.8838]],\n",
       "       grad_fn=<TanhBackward0>)"
      ]
     },
     "execution_count": 22,
     "metadata": {},
     "output_type": "execute_result"
    }
   ],
   "source": [
    "h"
   ]
  },
  {
   "cell_type": "code",
   "execution_count": 23,
   "id": "0eb1c33d",
   "metadata": {},
   "outputs": [
    {
     "data": {
      "text/plain": [
       "(array([  1.,   2.,   0.,   1.,   5.,   3.,  11.,   6.,  13.,  10.,  25.,\n",
       "         40.,  41.,  74.,  65.,  99., 136., 168., 185., 220., 224., 271.,\n",
       "        311., 309., 356., 369., 380., 361., 361., 334., 294., 282., 284.,\n",
       "        249., 186., 169., 134., 104.,  82.,  74.,  42.,  29.,  28.,  19.,\n",
       "         12.,   7.,  12.,   3.,   2.,   7.]),\n",
       " array([-3.76140118, -3.61777295, -3.47414472, -3.33051649, -3.18688826,\n",
       "        -3.04326003, -2.8996318 , -2.75600357, -2.61237534, -2.46874711,\n",
       "        -2.32511888, -2.18149065, -2.03786242, -1.89423419, -1.75060596,\n",
       "        -1.60697773, -1.46334949, -1.31972126, -1.17609303, -1.0324648 ,\n",
       "        -0.88883657, -0.74520834, -0.60158011, -0.45795188, -0.31432365,\n",
       "        -0.17069542, -0.02706719,  0.11656104,  0.26018927,  0.4038175 ,\n",
       "         0.54744573,  0.69107396,  0.83470219,  0.97833042,  1.12195865,\n",
       "         1.26558688,  1.40921511,  1.55284334,  1.69647157,  1.8400998 ,\n",
       "         1.98372803,  2.12735626,  2.27098449,  2.41461272,  2.55824095,\n",
       "         2.70186918,  2.84549741,  2.98912564,  3.13275387,  3.2763821 ,\n",
       "         3.42001033]),\n",
       " <BarContainer object of 50 artists>)"
      ]
     },
     "execution_count": 23,
     "metadata": {},
     "output_type": "execute_result"
    },
    {
     "data": {
      "image/png": "[encoded data removed]",
      "text/plain": [
       "<Figure size 640x480 with 1 Axes>"
      ]
     },
     "metadata": {},
     "output_type": "display_data"
    }
   ],
   "source": [
    "plt.hist(hpreact.view(-1).tolist(), bins = 50)"
   ]
  },
  {
   "cell_type": "markdown",
   "id": "bd52515f",
   "metadata": {},
   "source": [
    "\n",
    "tanh 함수를 통과하면서 각각 1.0 또는 -1.0에 매우 가까운 값으로 바뀌는데, 넓은 범위의 입력값들이 모두 이 좁은 출력 범위로 '압축(squashed)되고 있다.  \n",
    "\n",
    "이는 기울기가 소실되어버리는 현상으로 이어지는데, tanh의 그래프 개형이 1, -1에 가까워질수록 기울기가 점차 0에 가까워지기 때문이다.\n",
    "기울기가 0에 가까워진다는 말은 변화율이 0에 수렴한다는 뜻이고, \n",
    "변화율이 0에 수렴한다는 것은 거의 안 변한다, 변화율이 미미하다는 뜻이다.   \n",
    "\n",
    "즉, 이는 넓은 범위의 입력값들이 좁은 출력 범위로 압축되어 1, -1로 몰리면서, 엄청난 차이를 가진 값들이, 상대적으로 매우 미미한 차이로 좁혀지는 squashed 된다는 점에서 일맥상통하다.  \n",
    "\n",
    "이처럼 출력이 극단적인 값에 가까워지는 영역을 포화(saturation) 영역이라고 한다."
   ]
  },
  {
   "cell_type": "code",
   "execution_count": 24,
   "id": "e76ac695",
   "metadata": {},
   "outputs": [
    {
     "data": {
      "text/plain": [
       "(array([140., 172., 169., 160., 144., 154., 134., 129., 109., 140.,  94.,\n",
       "        102., 131., 110., 118.,  95.,  83.,  99., 104., 102., 110., 123.,\n",
       "        111.,  73., 105., 113., 103., 103., 102.,  96., 103., 122., 115.,\n",
       "        125.,  90., 144., 103., 101., 121., 123., 140., 121., 170., 164.,\n",
       "        161., 184., 186., 197., 212., 190.]),\n",
       " array([-9.98919368e-01, -9.58983738e-01, -9.19048109e-01, -8.79112480e-01,\n",
       "        -8.39176850e-01, -7.99241221e-01, -7.59305592e-01, -7.19369962e-01,\n",
       "        -6.79434333e-01, -6.39498703e-01, -5.99563074e-01, -5.59627445e-01,\n",
       "        -5.19691815e-01, -4.79756186e-01, -4.39820557e-01, -3.99884927e-01,\n",
       "        -3.59949298e-01, -3.20013669e-01, -2.80078039e-01, -2.40142410e-01,\n",
       "        -2.00206780e-01, -1.60271151e-01, -1.20335522e-01, -8.03998923e-02,\n",
       "        -4.04642630e-02, -5.28633595e-04,  3.94069958e-02,  7.93426251e-02,\n",
       "         1.19278255e-01,  1.59213884e-01,  1.99149513e-01,  2.39085143e-01,\n",
       "         2.79020772e-01,  3.18956401e-01,  3.58892031e-01,  3.98827660e-01,\n",
       "         4.38763289e-01,  4.78698919e-01,  5.18634548e-01,  5.58570178e-01,\n",
       "         5.98505807e-01,  6.38441436e-01,  6.78377066e-01,  7.18312695e-01,\n",
       "         7.58248324e-01,  7.98183954e-01,  8.38119583e-01,  8.78055212e-01,\n",
       "         9.17990842e-01,  9.57926471e-01,  9.97862101e-01]),\n",
       " <BarContainer object of 50 artists>)"
      ]
     },
     "execution_count": 24,
     "metadata": {},
     "output_type": "execute_result"
    },
    {
     "data": {
      "image/png": "[encoded data removed]",
      "text/plain": [
       "<Figure size 640x480 with 1 Axes>"
      ]
     },
     "metadata": {},
     "output_type": "display_data"
    }
   ],
   "source": [
    "plt.hist(h.view(-1).tolist(), bins = 50)"
   ]
  },
  {
   "cell_type": "code",
   "execution_count": 12,
   "id": "f9b8ea95",
   "metadata": {},
   "outputs": [
    {
     "data": {
      "text/plain": [
       "torch.Size([32, 200])"
      ]
     },
     "execution_count": 12,
     "metadata": {},
     "output_type": "execute_result"
    }
   ],
   "source": [
    "h.shape"
   ]
  },
  {
   "cell_type": "markdown",
   "id": "a626fbf2",
   "metadata": {},
   "source": [
    "### Backpropagation 복습"
   ]
  },
  {
   "cell_type": "markdown",
   "id": "eaabd716",
   "metadata": {},
   "source": [
    "<style>\n",
    "    table {\n",
    "        font-size: 80%;\n",
    "    }\n",
    "</style>\n",
    "\n",
    "- 신경망이 예측을 틀렸을 때, 우리는 최종 오차(error)를 계산한다.\n",
    "\n",
    "- 역전파는 이 오차에 대한 \"책임\"을 출력층부터 입력층 방향으로, 한 층씩 거꾸로 거슬러 올라가며 각 가중치(weight)에 분배하는 과정이다.\n",
    "\n",
    "- 이때 각 층을 지날 때마다 \"체인룰(Chain Rule)\"이라는 미분 법칙에 따라, 이전 층에서 온 기울기 값에 현재 층의 **'로컬 기울기(local gradient)'**를 곱해서 다음 층으로 전달한다."
   ]
  },
  {
   "cell_type": "markdown",
   "id": "8a963421",
   "metadata": {},
   "source": [
    "### tanh 함수의 기울기 값의 특징"
   ]
  },
  {
   "cell_type": "markdown",
   "id": "59f88dc5",
   "metadata": {},
   "source": [
    "<style>\n",
    "    table {\n",
    "        font-size: 85%;\n",
    "    }\n",
    "</style>\n",
    "\n",
    "|tanh 출력값|기울기 값($1-y^2$)|설명|\n",
    "|:---|:---|:---|\n",
    "|0.0 (입력 x가 0일 때)|$1−0^2=1.0$|최대 기울기. 입력 신호가 거의 그대로 다음 층으로 전달된다.|\n",
    "|±0.5|$1−(0.5)^2=0.75$|기울기가 줄어들기 시작한다.|\n",
    "|±0.9|$1−(0.9)^2=0.19$|기울기가 매우 작아졌다. 신호가 19%만 전달된다.|\n",
    "|±0.99 (Squashed 영역)|$1−(0.99)^2≈0.02$|기울기가 거의 0에 가깝다. 신호가 거의 전달되지 않는다.|\n",
    "|±1.0 (완전히 Squashed)|$1−(1.0)^2=0.0$|기울기 소실(Gradient Vanishing). 신호가 완전히 차단된다.|"
   ]
  },
  {
   "cell_type": "markdown",
   "id": "8a610908",
   "metadata": {},
   "source": [
    "### The process of the tanh gradient vanishing during backpropagation"
   ]
  },
  {
   "cell_type": "markdown",
   "id": "5c8b77c9",
   "metadata": {},
   "source": [
    "<style>\n",
    "    table {\n",
    "        font-size: 80%;\n",
    "    }\n",
    "</style>\n",
    "\n",
    "1. 출력층에서 시작: 맨 마지막 층에서 계산된 오차의 기울기(Gradient)가 있다.     \n",
    "    이 값을 '$100\\%$'의 책임 신호라고 가정해 보자.  \n",
    "\n",
    "2. 한 층 뒤로 전달: 이 '$100\\%$' 신호가 바로 전 층으로 전달된다.       \n",
    "    이 층의 tanh 함수를 통과할 때,   \n",
    "    '$100\\%$' 신호에 **해당 tanh의 기울기 값**을 곱한다.  \n",
    "\n",
    "    - 만약 이 층의 tanh 출력이 $0.9$였다면, 기울기는 $0.19$이다.  \n",
    "        따라서 전달되는 신호는 $100\\% * 0.19 = 19\\%$로 줄어든다.\n",
    "\n",
    "3. 다시 한 층 더 뒤로 전달: 이제 $19%$로 줄어든 신호가 그 전 층으로 전달된다.  \n",
    "    만약 이 층의 tanh 출력도 $0.95$였다면, 기울기는 $1−0.95^{2}≈0.0975$이다.  \n",
    "\n",
    "    - 따라서 전달되는 신호는 다시 $19\\% * 0.0975 ≈ 1.85\\%$로 대폭 줄어든다.\n",
    "\n",
    "4. 초기 층에 도달: 이런 식으로 여러 층을 거치면, $0$보다 크고 $1$보다 작은 기울기 값이 계속 곱해지기 때문에, 신경망의 앞쪽(입력층에 가까운 쪽)에 도달했을 때는 기울기가 거의 $0$에 가까워진다.  "
   ]
  },
  {
   "cell_type": "code",
   "execution_count": 25,
   "id": "3b43449a",
   "metadata": {},
   "outputs": [
    {
     "data": {
      "text/plain": [
       "<matplotlib.image.AxesImage at 0x2c2f4d6edb0>"
      ]
     },
     "execution_count": 25,
     "metadata": {},
     "output_type": "execute_result"
    },
    {
     "data": {
      "image/png": "[encoded data removed]",
      "text/plain": [
       "<Figure size 2000x1000 with 1 Axes>"
      ]
     },
     "metadata": {},
     "output_type": "display_data"
    }
   ],
   "source": [
    "plt.figure(figsize=(20,10))\n",
    "plt.imshow(h.abs() > 0.99, cmap='gray', interpolation='nearest')\n",
    "# h.abs() > 0.99 is boolean tensor\n",
    "# shows 'white is true, black is false'\n",
    "# image shows h, which has 32 examples and 200 hidden neurons.\n",
    "\n",
    "# white parts neurons are in a flat tail. all these cases backward gradient would get destroyed.\n",
    "\n",
    "# we would be in a lot of trouble, for any one of these 200 neurons, if it was the case that entire column is white, because in that casese we have what's called a dead neuron. "
   ]
  },
  {
   "cell_type": "markdown",
   "id": "febcf77e",
   "metadata": {},
   "source": [
    "### Then, How we solve this problem?\n",
    "\n",
    "-> modify hpreact"
   ]
  },
  {
   "cell_type": "code",
   "execution_count": 28,
   "id": "e84d3fec",
   "metadata": {},
   "outputs": [
    {
     "data": {
      "text/plain": [
       "[<matplotlib.lines.Line2D at 0x2c2801a6120>]"
      ]
     },
     "execution_count": 28,
     "metadata": {},
     "output_type": "execute_result"
    },
    {
     "data": {
      "image/png": "[encoded data removed]",
      "text/plain": [
       "<Figure size 640x480 with 1 Axes>"
      ]
     },
     "metadata": {},
     "output_type": "display_data"
    }
   ],
   "source": [
    "plt.plot(lossi)"
   ]
  },
  {
   "cell_type": "code",
   "execution_count": 51,
   "id": "9bd3a11c",
   "metadata": {},
   "outputs": [],
   "source": [
    "# calibrate the batch norm at the end of training\n",
    "\n",
    "with torch.no_grad():\n",
    "    # pass the training set through\n",
    "    emb = C[Xtr]\n",
    "    embcat = emb.view(emb.shape[0], -1)\n",
    "    hpreact = embcat @ W1 + b1\n",
    "    # measure the mean/std over the entire training set\n",
    "    bnmean = hpreact.mean(0, keepdim=True)\n",
    "    bnstd = hpreact.std(0, keepdim=True)"
   ]
  },
  {
   "cell_type": "code",
   "execution_count": null,
   "id": "661bc718",
   "metadata": {},
   "outputs": [],
   "source": [
    "bnmean"
   ]
  },
  {
   "cell_type": "code",
   "execution_count": null,
   "id": "a0187e54",
   "metadata": {},
   "outputs": [],
   "source": [
    "bnmean_running"
   ]
  },
  {
   "cell_type": "code",
   "execution_count": 55,
   "id": "0ce6b17d",
   "metadata": {},
   "outputs": [
    {
     "name": "stdout",
     "output_type": "stream",
     "text": [
      "train 2.078073024749756\n",
      "val 2.1128153800964355\n"
     ]
    }
   ],
   "source": [
    "@torch.no_grad() # this decorator disables gradient tracking\n",
    "def split_loss(split):\n",
    "    x,y = {\n",
    "        'train': (Xtr,Ytr),\n",
    "        'val': (Xdev, Ydev),\n",
    "        'test': (Xte, Yte),\n",
    "    }[split]\n",
    "    \n",
    "    emb = C[x] # (N, block_size, n_embd)\n",
    "    embcat = emb.view(emb.shape[0], -1) # concat into (N, block_size * n_embd)\n",
    "    hpreact = embcat @ W1 + b1\n",
    "    # hpreact = bngain * (hpreact - hpreact.mean(0, keepdim=True)) / hpreact.std(0, keepdim=True) + bnbias\n",
    "    hpreact = bngain * (hpreact - bnmean_running) / bnstd_running + bnbias\n",
    "    h = torch.tanh(hpreact) # (N, n_hidden)\n",
    "    logits = h @ W2 + b2 # (N, vocab_size)\n",
    "    loss = F.cross_entropy(logits, y)\n",
    "    print(split, loss.item())\n",
    "\n",
    "split_loss('train')\n",
    "split_loss('val')"
   ]
  },
  {
   "cell_type": "markdown",
   "id": "4af2ab68",
   "metadata": {},
   "source": [
    "아래 코드는,\n",
    "1. 모델이 예측한 확률 분포(Probability Distribution)을 얻어내고,\n",
    "2. 그 분포로부터 가장 가능성 높은 것을 확률에 따라 뽑기(Sampling)하고,\n",
    "3. 뽑힌 결과를 다음 예측의 입력으로 다시 사용하여, 한 글자씩 단어를 '조립'하는 과정과 같다. "
   ]
  },
  {
   "cell_type": "code",
   "execution_count": 16,
   "id": "ec644442",
   "metadata": {},
   "outputs": [
    {
     "name": "stdout",
     "output_type": "stream",
     "text": [
      "mora.\n",
      "mayah.\n",
      "seel.\n",
      "nah.\n",
      "yal.\n",
      "renyra.\n",
      "endrael.\n",
      "adeeroselin.\n",
      "shy.\n",
      "jenne.\n",
      "elisson.\n",
      "artelyn.\n",
      "malkia.\n",
      "noshubergahimies.\n",
      "kendreelle.\n",
      "jose.\n",
      "casu.\n",
      "zen.\n",
      "der.\n",
      "yarleyeks.\n"
     ]
    }
   ],
   "source": [
    "# sample from the model\n",
    "g = torch.Generator().manual_seed(seed_num + 10)\n",
    "\n",
    "for _ in range(20):\n",
    "\n",
    "    out = []\n",
    "    context = [0] * block_size # initialize with all\n",
    "    while True:\n",
    "        # forward pass the neural net\n",
    "        emb = C[torch.tensor([context])] # (1,block_size,n_embd)\n",
    "        h = torch.tanh(emb.view(1,-1) @ W1 + b1)\n",
    "        logits = h @ W2 + b2\n",
    "        probs = F.softmax(logits, dim=1)  # probabilities of next character \n",
    "        # sample from the distribution\n",
    "        ix = torch.multinomial(probs, num_samples=1, generator=g).item()\n",
    "        # shift the context window and track the samples\n",
    "        context = context[1:] + [ix]\n",
    "        out.append(ix)\n",
    "        # if we sample the special '.' token, break\n",
    "        if ix == 0:\n",
    "            break\n",
    "\n",
    "    print(''.join(itos[i] for i in out)) # decode and print the generated word"
   ]
  },
  {
   "cell_type": "code",
   "execution_count": 17,
   "id": "00dc343a",
   "metadata": {},
   "outputs": [
    {
     "data": {
      "text/plain": [
       "torch.Size([1, 27])"
      ]
     },
     "execution_count": 17,
     "metadata": {},
     "output_type": "execute_result"
    }
   ],
   "source": [
    "probs.shape"
   ]
  }
 ],
 "metadata": {
  "kernelspec": {
   "display_name": ".venv",
   "language": "python",
   "name": "python3"
  },
  "language_info": {
   "codemirror_mode": {
    "name": "ipython",
    "version": 3
   },
   "file_extension": ".py",
   "mimetype": "text/x-python",
   "name": "python",
   "nbconvert_exporter": "python",
   "pygments_lexer": "ipython3",
   "version": "3.12.10"
  }
 },
 "nbformat": 4,
 "nbformat_minor": 5
}
