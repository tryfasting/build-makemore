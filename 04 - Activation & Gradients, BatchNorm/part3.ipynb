{
 "cells": [
  {
   "cell_type": "markdown",
   "id": "7c423a55",
   "metadata": {},
   "source": [
    "### makemore: part 3"
   ]
  },
  {
   "cell_type": "code",
   "execution_count": 2,
   "id": "acd09fe1",
   "metadata": {},
   "outputs": [],
   "source": [
    "import torch\n",
    "import torch.nn.functional as F\n",
    "import matplotlib.pyplot as plt # for making figures\n",
    "%matplotlib inline"
   ]
  },
  {
   "cell_type": "code",
   "execution_count": 3,
   "id": "172d63fb",
   "metadata": {},
   "outputs": [
    {
     "data": {
      "text/plain": [
       "['emma', 'olivia', 'ava', 'isabella', 'sophia', 'charlotte', 'mia', 'amelia']"
      ]
     },
     "execution_count": 3,
     "metadata": {},
     "output_type": "execute_result"
    }
   ],
   "source": [
    "# read in all the words\n",
    "words = open('../data/names.txt', 'r').read().splitlines()\n",
    "words[:8]"
   ]
  },
  {
   "cell_type": "code",
   "execution_count": 4,
   "id": "88e1c3fa",
   "metadata": {},
   "outputs": [
    {
     "data": {
      "text/plain": [
       "32033"
      ]
     },
     "execution_count": 4,
     "metadata": {},
     "output_type": "execute_result"
    }
   ],
   "source": [
    "len(words)"
   ]
  },
  {
   "cell_type": "code",
   "execution_count": 5,
   "id": "59cf6cba",
   "metadata": {},
   "outputs": [
    {
     "name": "stdout",
     "output_type": "stream",
     "text": [
      "{1: 'a', 2: 'b', 3: 'c', 4: 'd', 5: 'e', 6: 'f', 7: 'g', 8: 'h', 9: 'i', 10: 'j', 11: 'k', 12: 'l', 13: 'm', 14: 'n', 15: 'o', 16: 'p', 17: 'q', 18: 'r', 19: 's', 20: 't', 21: 'u', 22: 'v', 23: 'w', 24: 'x', 25: 'y', 26: 'z', 0: '.'}\n",
      "27\n"
     ]
    }
   ],
   "source": [
    "# build the vocabulary of characters and mapping to/from integers\n",
    "chars = sorted(list(set(''.join(words))))\n",
    "stoi = {s:i+1 for i,s in enumerate(chars)}\n",
    "stoi['.'] = 0\n",
    "itos = {i:s for s,i in stoi.items()}\n",
    "vocab_size = len(itos)\n",
    "print(itos)\n",
    "print(vocab_size)"
   ]
  },
  {
   "cell_type": "code",
   "execution_count": 6,
   "id": "8d8ca5cc",
   "metadata": {},
   "outputs": [
    {
     "name": "stdout",
     "output_type": "stream",
     "text": [
      "torch.Size([182625, 3]) torch.Size([182625])\n",
      "torch.Size([22655, 3]) torch.Size([22655])\n",
      "torch.Size([22866, 3]) torch.Size([22866])\n"
     ]
    }
   ],
   "source": [
    "# build the dataset\n",
    "block_size = 3 # context length : how many characters do we take to predict the next one?\n",
    "def build_dataset(words):\n",
    "    X,Y = [], []\n",
    "    for w in words:\n",
    "        # print(w)\n",
    "        context = [0] * block_size\n",
    "        for ch in w + '.':\n",
    "            ix = stoi[ch]\n",
    "            X.append(context)  \n",
    "            Y.append(ix)\n",
    "            context = context[1:] + [ix] # crop and append\n",
    "    X = torch.tensor(X) \n",
    "    Y = torch.tensor(Y)\n",
    "    print(X.shape, Y.shape)\n",
    "    return X,Y\n",
    "\n",
    "import random \n",
    "random.seed(42)\n",
    "random.shuffle(words)\n",
    "n1 = int(0.8*len(words))\n",
    "n2 = int(0.9*len(words))\n",
    "\n",
    "Xtr, Ytr = build_dataset(words[:n1])      # 80% training set\n",
    "Xdev, Ydev = build_dataset(words[n1:n2])  # 10% dev=validation set\n",
    "Xte, Yte = build_dataset(words[n2:])      # 10% test set"
   ]
  },
  {
   "cell_type": "code",
   "execution_count": 59,
   "id": "59a70c14",
   "metadata": {},
   "outputs": [
    {
     "name": "stdout",
     "output_type": "stream",
     "text": [
      "11897\n"
     ]
    }
   ],
   "source": [
    "# MLP revisited\n",
    "n_embd = 10 # the dimensionality of the character embedding vectors\n",
    "n_hidden = 200 # the number of neurons in the hidden layer of the MLP\n",
    "\n",
    "seed_num = 2147483647\n",
    "g = torch.Generator().manual_seed(seed_num)\n",
    "C = torch.randn((vocab_size,n_embd), generator=g)\n",
    "W1 = torch.randn((n_embd * block_size, n_hidden), generator=g)\n",
    "b1 = torch.randn(n_hidden,generator=g)\n",
    "W2 = torch.randn((n_hidden,vocab_size), generator=g) * 0.01 # we want roughly zero at logits\n",
    "b2 = torch.randn(vocab_size,generator=g) * 0 # at initialization, bias starts with 0, because we want roughly zero at logits.\n",
    "\n",
    "parameters = [C,W1,b1,W2,b2]\n",
    "print(sum(p.nelement() for p in parameters)) # number of parameters in total\n",
    "for p in parameters:\n",
    "    p.requires_grad = True"
   ]
  },
  {
   "cell_type": "markdown",
   "id": "703a6bae",
   "metadata": {},
   "source": [
    "### problem 1 : at initialization"
   ]
  },
  {
   "cell_type": "code",
   "execution_count": null,
   "id": "23d03ccb",
   "metadata": {},
   "outputs": [],
   "source": [
    "# at initialization, uniform distribution , (a-z) alphabet.\n",
    "-torch.tensor(1/27.0).log()\n",
    "\n",
    "# but at the start, loss starts with \n",
    "# '0/ 200000: 27.8817'\n",
    "# it means at starting, the neural net is creating probability distributions that are all messed up, some character is confident, and some character is not.\n",
    "\n",
    "# so basically what's happening right is that the network is very confidently wrong.\n",
    "\n",
    "# 4-dimensional example of the issue\n",
    "# logits = torch.tensor([0.0, 0.0, 0.0, 0.0])\n",
    "logits = torch.randn(4) * 10\n",
    "probs = torch.softmax(logits, dim=0)\n",
    "loss =  -probs[2].log()\n",
    "probs, loss\n",
    "\n",
    "'''\n",
    "# 27-dimensional example of the issue\n",
    "logits = torch.zeros(27).float()\n",
    "probs = torch.softmax(logits, dim=0)\n",
    "loss = -probs[2].log()\n",
    "probs, loss\n",
    "'''"
   ]
  },
  {
   "cell_type": "markdown",
   "id": "3b29f1df",
   "metadata": {},
   "source": [
    "### problem 2 : vector 'h', gradient vanishing"
   ]
  },
  {
   "cell_type": "code",
   "execution_count": 60,
   "id": "85684a47",
   "metadata": {},
   "outputs": [
    {
     "name": "stdout",
     "output_type": "stream",
     "text": [
      "      0/ 200000: 3.3221\n"
     ]
    }
   ],
   "source": [
    "# same optimization as last time\n",
    "max_steps = 200000\n",
    "batch_size = 32\n",
    "lossi = []\n",
    "\n",
    "for i in range(max_steps):\n",
    "\n",
    "    # minibatch construct\n",
    "    ix = torch.randint(0,Xtr.shape[0],(batch_size,),generator=g)\n",
    "    Xb, Yb = Xtr[ix], Ytr[ix] # batch X,Y\n",
    "\n",
    "    # forward pass\n",
    "    emb = C[Xb] #embed the characters into vectors\n",
    "    embcat = emb.view(emb.shape[0], -1) # concatenate the vectors\n",
    "    hpreact = embcat @ W1 + b1 # hidden layer pre-activation\n",
    "    h = torch.tanh(hpreact) # hidden layer\n",
    "    logits = h @ W2 + b2 # output layer\n",
    "    loss = F.cross_entropy(logits, Yb) # loss function\n",
    "\n",
    "    # backward pass\n",
    "    for p in parameters:\n",
    "        p.grad = None\n",
    "    loss.backward()\n",
    "\n",
    "    # update\n",
    "    lr = 0.1 if i < 100000 else 0.01 # step learning rate decay\n",
    "    for p in parameters:\n",
    "        p.data += -lr * p.grad\n",
    "\n",
    "    # track stats\n",
    "    if i % 10000 == 0: # print every once in a while\n",
    "        print(f'{i:7d}/{max_steps:7d}: {loss.item():.4f}')\n",
    "    lossi.append(loss.log10().item())\n",
    "\n",
    "    break "
   ]
  },
  {
   "cell_type": "code",
   "execution_count": 70,
   "id": "95275ec0",
   "metadata": {},
   "outputs": [
    {
     "data": {
      "text/plain": [
       "tensor([[ 0.8100, -0.8997, -0.9993,  ..., -0.9097, -1.0000,  1.0000],\n",
       "        [-1.0000, -0.9571, -0.7145,  ...,  0.4898,  0.9090,  0.9937],\n",
       "        [ 0.9983, -0.3340,  1.0000,  ...,  0.9443,  0.9905,  1.0000],\n",
       "        ...,\n",
       "        [-1.0000,  0.9604, -0.1418,  ..., -0.1266,  1.0000,  1.0000],\n",
       "        [-1.0000, -0.4385, -0.8882,  ..., -0.3316,  0.9995,  1.0000],\n",
       "        [-1.0000,  0.9604, -0.1418,  ..., -0.1266,  1.0000,  1.0000]],\n",
       "       grad_fn=<TanhBackward0>)"
      ]
     },
     "execution_count": 70,
     "metadata": {},
     "output_type": "execute_result"
    }
   ],
   "source": [
    "h"
   ]
  },
  {
   "cell_type": "code",
   "execution_count": 71,
   "id": "0eb1c33d",
   "metadata": {},
   "outputs": [
    {
     "data": {
      "text/plain": [
       "(array([  2.,   2.,   1.,   4.,   2.,   4.,   6.,  15.,   5.,  25.,  32.,\n",
       "         49.,  56.,  59.,  92., 119., 134., 197., 195., 221., 257., 275.,\n",
       "        297., 341., 353., 375., 369., 349., 358., 362., 271., 312., 229.,\n",
       "        206., 190., 167.,  87., 111.,  72.,  55.,  41.,  22.,  23.,  18.,\n",
       "         17.,   8.,   5.,   7.,   2.,   1.]),\n",
       " array([-19.05793571, -18.31571732, -17.57349892, -16.83128052,\n",
       "        -16.08906212, -15.34684372, -14.60462532, -13.86240692,\n",
       "        -13.12018852, -12.37797012, -11.63575172, -10.89353333,\n",
       "        -10.15131493,  -9.40909653,  -8.66687813,  -7.92465973,\n",
       "         -7.18244133,  -6.44022293,  -5.69800453,  -4.95578613,\n",
       "         -4.21356773,  -3.47134933,  -2.72913094,  -1.98691254,\n",
       "         -1.24469414,  -0.50247574,   0.23974266,   0.98196106,\n",
       "          1.72417946,   2.46639786,   3.20861626,   3.95083466,\n",
       "          4.69305305,   5.43527145,   6.17748985,   6.91970825,\n",
       "          7.66192665,   8.40414505,   9.14636345,   9.88858185,\n",
       "         10.63080025,  11.37301865,  12.11523705,  12.85745544,\n",
       "         13.59967384,  14.34189224,  15.08411064,  15.82632904,\n",
       "         16.56854744,  17.31076584,  18.05298424]),\n",
       " <BarContainer object of 50 artists>)"
      ]
     },
     "execution_count": 71,
     "metadata": {},
     "output_type": "execute_result"
    },
    {
     "data": {
      "image/png": "[encoded data removed]",
      "text/plain": [
       "<Figure size 640x480 with 1 Axes>"
      ]
     },
     "metadata": {},
     "output_type": "display_data"
    }
   ],
   "source": [
    "plt.hist(hpreact.view(-1).tolist(), bins = 50)"
   ]
  },
  {
   "cell_type": "markdown",
   "id": "bd52515f",
   "metadata": {},
   "source": [
    "\n",
    "tanh 함수를 통과하면서 각각 1.0 또는 -1.0에 매우 가까운 값으로 바뀌는데, 넓은 범위의 입력값들이 모두 이 좁은 출력 범위로 '압축(squashed)되고 있다.  \n",
    "\n",
    "이는 기울기가 소실되어버리는 현상으로 이어지는데, tanh의 그래프 개형이 1, -1에 가까워질수록 기울기가 점차 0에 가까워지기 때문이다.\n",
    "기울기가 0에 가까워진다는 말은 변화율이 0에 수렴한다는 뜻이고, \n",
    "변화율이 0에 수렴한다는 것은 거의 안 변한다, 변화율이 미미하다는 뜻이다.   \n",
    "\n",
    "즉, 이는 넓은 범위의 입력값들이 좁은 출력 범위로 압축되어 1, -1로 몰리면서, 엄청난 차이를 가진 값들이, 상대적으로 매우 미미한 차이로 좁혀지는 squashed 된다는 점에서 일맥상통하다.  "
   ]
  },
  {
   "cell_type": "code",
   "execution_count": 73,
   "id": "e76ac695",
   "metadata": {},
   "outputs": [
    {
     "data": {
      "text/plain": [
       "(array([2069.,  144.,  106.,   82.,   59.,   56.,   44.,   30.,   43.,\n",
       "          26.,   16.,   38.,   16.,   32.,   24.,   14.,   28.,   27.,\n",
       "          26.,   19.,   24.,   26.,   30.,   14.,   19.,   19.,   22.,\n",
       "          26.,   18.,   12.,   10.,   33.,   27.,   32.,   17.,   24.,\n",
       "          30.,   22.,   26.,   29.,   26.,   40.,   29.,   41.,   49.,\n",
       "          64.,   62.,  100.,  188., 2442.]),\n",
       " array([-1.  , -0.96, -0.92, -0.88, -0.84, -0.8 , -0.76, -0.72, -0.68,\n",
       "        -0.64, -0.6 , -0.56, -0.52, -0.48, -0.44, -0.4 , -0.36, -0.32,\n",
       "        -0.28, -0.24, -0.2 , -0.16, -0.12, -0.08, -0.04,  0.  ,  0.04,\n",
       "         0.08,  0.12,  0.16,  0.2 ,  0.24,  0.28,  0.32,  0.36,  0.4 ,\n",
       "         0.44,  0.48,  0.52,  0.56,  0.6 ,  0.64,  0.68,  0.72,  0.76,\n",
       "         0.8 ,  0.84,  0.88,  0.92,  0.96,  1.  ]),\n",
       " <BarContainer object of 50 artists>)"
      ]
     },
     "execution_count": 73,
     "metadata": {},
     "output_type": "execute_result"
    },
    {
     "data": {
      "image/png": "[encoded data removed]",
      "text/plain": [
       "<Figure size 640x480 with 1 Axes>"
      ]
     },
     "metadata": {},
     "output_type": "display_data"
    }
   ],
   "source": [
    "plt.hist(h.view(-1).tolist(), bins = 50)"
   ]
  },
  {
   "cell_type": "code",
   "execution_count": 75,
   "id": "f9b8ea95",
   "metadata": {},
   "outputs": [
    {
     "data": {
      "text/plain": [
       "torch.Size([32, 200])"
      ]
     },
     "execution_count": 75,
     "metadata": {},
     "output_type": "execute_result"
    }
   ],
   "source": [
    "h.shape"
   ]
  },
  {
   "cell_type": "code",
   "execution_count": null,
   "id": "3b43449a",
   "metadata": {},
   "outputs": [
    {
     "data": {
      "text/plain": [
       "<matplotlib.image.AxesImage at 0x28468ffbf50>"
      ]
     },
     "execution_count": 74,
     "metadata": {},
     "output_type": "execute_result"
    },
    {
     "data": {
      "image/png": "[encoded data removed]",
      "text/plain": [
       "<Figure size 2000x1000 with 1 Axes>"
      ]
     },
     "metadata": {},
     "output_type": "display_data"
    }
   ],
   "source": [
    "plt.figure(figsize=(20,10))\n",
    "plt.imshow(h.abs() > 0.99, cmap='gray', interpolation='nearest')\n",
    "# h.abs() > 0.99 is boolean tensor\n",
    "# shows 'white is true, black is false'\n",
    "# image shows h, which has 32 examples and 200 hidden neurons."
   ]
  },
  {
   "cell_type": "code",
   "execution_count": 56,
   "id": "e84d3fec",
   "metadata": {},
   "outputs": [
    {
     "data": {
      "text/plain": [
       "[<matplotlib.lines.Line2D at 0x28474321e80>]"
      ]
     },
     "execution_count": 56,
     "metadata": {},
     "output_type": "execute_result"
    },
    {
     "data": {
      "image/png": "[encoded data removed]",
      "text/plain": [
       "<Figure size 640x480 with 1 Axes>"
      ]
     },
     "metadata": {},
     "output_type": "display_data"
    }
   ],
   "source": [
    "plt.plot(lossi)"
   ]
  },
  {
   "cell_type": "code",
   "execution_count": 57,
   "id": "0ce6b17d",
   "metadata": {},
   "outputs": [
    {
     "name": "stdout",
     "output_type": "stream",
     "text": [
      "train 2.069589138031006\n",
      "val 2.1310746669769287\n"
     ]
    }
   ],
   "source": [
    "@torch.no_grad() # this decorator disables gradient tracking\n",
    "def split_loss(split):\n",
    "    x,y = {\n",
    "        'train': (Xtr,Ytr),\n",
    "        'val': (Xdev, Ydev),\n",
    "        'test': (Xte, Yte),\n",
    "    }[split]\n",
    "    \n",
    "    emb = C[x] # (N, block_size, n_embd)\n",
    "    embcat = emb.view(emb.shape[0], -1) # concat into (N, block_size * n_embd)\n",
    "    h = torch.tanh(embcat @ W1 + b1) # (N, n_hidden)\n",
    "    logits = h @ W2 + b2 # (N, vocab_size)\n",
    "    loss = F.cross_entropy(logits, y)\n",
    "    print(split, loss.item())\n",
    "\n",
    "split_loss('train')\n",
    "split_loss('val')"
   ]
  },
  {
   "cell_type": "code",
   "execution_count": 12,
   "id": "25fefc15",
   "metadata": {},
   "outputs": [
    {
     "data": {
      "text/plain": [
       "tensor([[-0.9076,  0.4514, -0.0896, -0.9439,  0.2727,  0.4211,  0.4537, -0.3583,\n",
       "         -0.6286,  0.0757],\n",
       "        [ 0.8852, -0.5475, -1.7188, -1.4424,  0.7666, -0.3779,  1.5484,  2.7362,\n",
       "         -0.9158,  0.4861],\n",
       "        [-0.3037,  0.5863, -0.3471,  0.2158,  0.2101,  0.4904,  0.5042,  0.2936,\n",
       "         -0.5448,  0.2392]], grad_fn=<IndexBackward0>)"
      ]
     },
     "execution_count": 12,
     "metadata": {},
     "output_type": "execute_result"
    }
   ],
   "source": [
    "# emd lookup table인 이유\n",
    "C[5] == F.one_hot(torch.tensor(5), num_classes=vocab_size).float() @ C\n",
    "\n",
    "C.shape # torch.Size([27, 10])\n",
    "\n",
    "C[[5,6,7]]"
   ]
  },
  {
   "cell_type": "code",
   "execution_count": 13,
   "id": "07692cbd",
   "metadata": {},
   "outputs": [
    {
     "data": {
      "text/plain": [
       "tensor([-0.9076,  0.4514, -0.0896, -0.9439,  0.2727,  0.4211,  0.4537, -0.3583,\n",
       "        -0.6286,  0.0757], grad_fn=<SelectBackward0>)"
      ]
     },
     "execution_count": 13,
     "metadata": {},
     "output_type": "execute_result"
    }
   ],
   "source": [
    "C[5]"
   ]
  },
  {
   "cell_type": "code",
   "execution_count": 14,
   "id": "07318e20",
   "metadata": {},
   "outputs": [
    {
     "data": {
      "text/plain": [
       "tensor([ 0.8852, -0.5475, -1.7188, -1.4424,  0.7666, -0.3779,  1.5484,  2.7362,\n",
       "        -0.9158,  0.4861], grad_fn=<SelectBackward0>)"
      ]
     },
     "execution_count": 14,
     "metadata": {},
     "output_type": "execute_result"
    }
   ],
   "source": [
    "C[6]"
   ]
  },
  {
   "cell_type": "code",
   "execution_count": 15,
   "id": "31efd3a9",
   "metadata": {},
   "outputs": [
    {
     "data": {
      "text/plain": [
       "tensor([-0.3037,  0.5863, -0.3471,  0.2158,  0.2101,  0.4904,  0.5042,  0.2936,\n",
       "        -0.5448,  0.2392], grad_fn=<SelectBackward0>)"
      ]
     },
     "execution_count": 15,
     "metadata": {},
     "output_type": "execute_result"
    }
   ],
   "source": [
    "C[7]"
   ]
  },
  {
   "cell_type": "markdown",
   "id": "4af2ab68",
   "metadata": {},
   "source": [
    "아래 코드는,\n",
    "1. 모델이 예측한 확률 분포(Probability Distribution)을 얻어내고,\n",
    "2. 그 분포로부터 가장 가능성 높은 것을 확률에 따라 뽑기(Sampling)하고,\n",
    "3. 뽑힌 결과를 다음 예측의 입력으로 다시 사용하여, 한 글자씩 단어를 '조립'하는 과정과 같다. "
   ]
  },
  {
   "cell_type": "code",
   "execution_count": 16,
   "id": "ec644442",
   "metadata": {},
   "outputs": [
    {
     "name": "stdout",
     "output_type": "stream",
     "text": [
      "mora.\n",
      "mayah.\n",
      "seel.\n",
      "nah.\n",
      "yal.\n",
      "renyra.\n",
      "endrael.\n",
      "adeeroselin.\n",
      "shy.\n",
      "jenne.\n",
      "elisson.\n",
      "artelyn.\n",
      "malkia.\n",
      "noshubergahimies.\n",
      "kendreelle.\n",
      "jose.\n",
      "casu.\n",
      "zen.\n",
      "der.\n",
      "yarleyeks.\n"
     ]
    }
   ],
   "source": [
    "# sample from the model\n",
    "g = torch.Generator().manual_seed(seed_num + 10)\n",
    "\n",
    "for _ in range(20):\n",
    "\n",
    "    out = []\n",
    "    context = [0] * block_size # initialize with all\n",
    "    while True:\n",
    "        # forward pass the neural net\n",
    "        emb = C[torch.tensor([context])] # (1,block_size,n_embd)\n",
    "        h = torch.tanh(emb.view(1,-1) @ W1 + b1)\n",
    "        logits = h @ W2 + b2\n",
    "        probs = F.softmax(logits, dim=1)  # probabilities of next character \n",
    "        # sample from the distribution\n",
    "        ix = torch.multinomial(probs, num_samples=1, generator=g).item()\n",
    "        # shift the context window and track the samples\n",
    "        context = context[1:] + [ix]\n",
    "        out.append(ix)\n",
    "        # if we sample the special '.' token, break\n",
    "        if ix == 0:\n",
    "            break\n",
    "\n",
    "    print(''.join(itos[i] for i in out)) # decode and print the generated word"
   ]
  },
  {
   "cell_type": "code",
   "execution_count": 17,
   "id": "00dc343a",
   "metadata": {},
   "outputs": [
    {
     "data": {
      "text/plain": [
       "torch.Size([1, 27])"
      ]
     },
     "execution_count": 17,
     "metadata": {},
     "output_type": "execute_result"
    }
   ],
   "source": [
    "probs.shape"
   ]
  }
 ],
 "metadata": {
  "kernelspec": {
   "display_name": ".venv",
   "language": "python",
   "name": "python3"
  },
  "language_info": {
   "codemirror_mode": {
    "name": "ipython",
    "version": 3
   },
   "file_extension": ".py",
   "mimetype": "text/x-python",
   "name": "python",
   "nbconvert_exporter": "python",
   "pygments_lexer": "ipython3",
   "version": "3.12.10"
  }
 },
 "nbformat": 4,
 "nbformat_minor": 5
}
